{
  "cells": [
    {
      "cell_type": "markdown",
      "metadata": {
        "id": "view-in-github",
        "colab_type": "text"
      },
      "source": [
        "<a href=\"https://colab.research.google.com/github/anakayam45/Instagram-image-downloader/blob/main/POOP.ipynb\" target=\"_parent\"><img src=\"https://colab.research.google.com/assets/colab-badge.svg\" alt=\"Open In Colab\"/></a>"
      ]
    },
    {
      "cell_type": "code",
      "execution_count": null,
      "metadata": {
        "id": "Q-5inXsHbM5C"
      },
      "outputs": [],
      "source": [
        "import requests\n",
        "from bs4 import BeautifulSoup\n",
        "import re"
      ]
    },
    {
      "cell_type": "markdown",
      "source": [
        "**SEARCHING**"
      ],
      "metadata": {
        "id": "So3QATyyEyCA"
      }
    },
    {
      "cell_type": "code",
      "source": [
        "def next(a):\n",
        "  return f\"https://poophd.net{a.find('a', string='Next').get('href')}\"\n",
        "\n",
        "def getData(a):\n",
        "  return BeautifulSoup(requests.get(a).text, \"html.parser\")\n",
        "\n",
        "def search(regex, min, max):\n",
        "    inter = min\n",
        "    results = set()\n",
        "    jarak = (max - min) / 49\n",
        "    print(f'mulai di... {inter}')\n",
        "    while inter <= max:\n",
        "        newUrl = f\"https://poophd.net/top?p={inter}\"\n",
        "        headers = getData(newUrl)\n",
        "        for i in headers.findAll(\"div\", class_=\"col-sm col-md-6 col-lg-4\"):\n",
        "            if regex.search(i.text):\n",
        "                img = i.find(\"img\").get(\"src\")\n",
        "                link = i.find(\"a\").get(\"href\")\n",
        "                title = i.find(\"strong\").text\n",
        "                result_html = f\"<div><img height='100px' src='{img}' loading='lazy'><br><a href='https://poophd.net{link}'><b>{title}</b></a><br><hr></div>\"\n",
        "                results.add(result_html)\n",
        "        if inter - min > jarak:\n",
        "          while jarak < inter - min:\n",
        "            print(\"|\", end=\"\")\n",
        "            jarak += (max - min) / 49\n",
        "        inter += 1\n",
        "    print(f\"\\nSelesai di.... {inter}\")\n",
        "    return results"
      ],
      "metadata": {
        "id": "8kxq-EFXTp9p"
      },
      "execution_count": 8,
      "outputs": []
    },
    {
      "cell_type": "code",
      "source": [
        "myRegexOi = re.compile(r'(?i)mandi')\n",
        "mySet = search(myRegexOi, 1, 2000)"
      ],
      "metadata": {
        "colab": {
          "base_uri": "https://localhost:8080/",
          "height": 0
        },
        "id": "Q4iwd9xzU-TB",
        "outputId": "3ebaae10-78a0-4b19-9722-489ea12395c4"
      },
      "execution_count": 10,
      "outputs": [
        {
          "output_type": "stream",
          "name": "stdout",
          "text": [
            "mulai di... 50\n",
            "||||||||||||||||||||||||||||||||||||||||||||||||\n",
            "Selesai di.... 101\n",
            "<div><img height='100px' src='https://i.poopcdn.com/YN7aF.jpg' loading='lazy'><br><a href='https://poophd.net/d/Kcnrsoxxvh9'><b>Video Viral Baru Kelar Mandi Minta Lagi</b></a><br><hr></div>\n",
            "<div><img height='100px' src='https://i.poopcdn.com/NAec6.jpg' loading='lazy'><br><a href='https://poophd.net/d/Xcmn49Y7KvT'><b>Skandal Majikan Ngewe Tukang Kebun Di Kamar Mandi - Pornhub com - DoodStream - DoodStream - DoodStream</b></a><br><hr></div>\n",
            "<div><img height='100px' src='https://i.poopcdn.com/sSJQq.jpg' loading='lazy'><br><a href='https://poophd.net/d/c3Sot46sBkG'><b>Abg colmek di kamar mandi memeknya terkencing2 </b></a><br><hr></div>\n",
            "<div><img height='100px' src='https://i.poopcdn.com/se9EF.jpg' loading='lazy'><br><a href='https://poophd.net/d/6lJRHj7b9zy'><b>Akibat Mandi Tidak Tutup Pintu</b></a><br><hr></div>\n"
          ]
        }
      ]
    },
    {
      "cell_type": "code",
      "source": [
        "for i in mySet:\n",
        "  print(i)"
      ],
      "metadata": {
        "id": "U94TFAiluz_Q"
      },
      "execution_count": null,
      "outputs": []
    }
  ],
  "metadata": {
    "colab": {
      "provenance": [],
      "gpuType": "T4",
      "authorship_tag": "ABX9TyNFDz1pFjBVf/M8vlQsNdvd",
      "include_colab_link": true
    },
    "kernelspec": {
      "display_name": "Python 3",
      "name": "python3"
    },
    "language_info": {
      "name": "python"
    },
    "accelerator": "GPU"
  },
  "nbformat": 4,
  "nbformat_minor": 0
}